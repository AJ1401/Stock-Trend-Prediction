{
 "cells": [
  {
   "cell_type": "markdown",
   "metadata": {},
   "source": [
    "## Importing Libraries"
   ]
  },
  {
   "cell_type": "code",
   "execution_count": 1,
   "metadata": {
    "id": "xlwdcnN-G4uR"
   },
   "outputs": [],
   "source": [
    "import pandas as pd\n",
    "import numpy as np\n",
    "import matplotlib.pyplot as plt"
   ]
  },
  {
   "cell_type": "code",
   "execution_count": 2,
   "metadata": {
    "id": "Iz_FhEbqHYyN"
   },
   "outputs": [],
   "source": [
    "import yfinance as yf"
   ]
  },
  {
   "cell_type": "markdown",
   "metadata": {},
   "source": [
    "## Fetching data from yahoo finance website"
   ]
  },
  {
   "cell_type": "code",
   "execution_count": 3,
   "metadata": {
    "colab": {
     "base_uri": "https://localhost:8080/",
     "height": 193
    },
    "id": "Ye_jUHKdHbwX",
    "outputId": "f35ce849-2e8b-441a-cc88-25abda1449d0"
   },
   "outputs": [
    {
     "data": {
      "text/plain": [
       "yfinance.Ticker object <AAPL>"
      ]
     },
     "execution_count": 3,
     "metadata": {},
     "output_type": "execute_result"
    }
   ],
   "source": [
    "data = yf.Ticker('AAPL')\n",
    "data"
   ]
  },
  {
   "cell_type": "code",
   "execution_count": 4,
   "metadata": {
    "id": "MBju3UIrHzyl"
   },
   "outputs": [],
   "source": [
    "df = data.history('120mo')"
   ]
  },
  {
   "cell_type": "code",
   "execution_count": 5,
   "metadata": {
    "colab": {
     "base_uri": "https://localhost:8080/",
     "height": 237
    },
    "id": "lidaxcX9H4yO",
    "outputId": "3074905b-88bf-4b83-f33f-33977725414d"
   },
   "outputs": [
    {
     "data": {
      "text/html": [
       "<div>\n",
       "<style scoped>\n",
       "    .dataframe tbody tr th:only-of-type {\n",
       "        vertical-align: middle;\n",
       "    }\n",
       "\n",
       "    .dataframe tbody tr th {\n",
       "        vertical-align: top;\n",
       "    }\n",
       "\n",
       "    .dataframe thead th {\n",
       "        text-align: right;\n",
       "    }\n",
       "</style>\n",
       "<table border=\"1\" class=\"dataframe\">\n",
       "  <thead>\n",
       "    <tr style=\"text-align: right;\">\n",
       "      <th></th>\n",
       "      <th>Open</th>\n",
       "      <th>High</th>\n",
       "      <th>Low</th>\n",
       "      <th>Close</th>\n",
       "      <th>Volume</th>\n",
       "      <th>Dividends</th>\n",
       "      <th>Stock Splits</th>\n",
       "    </tr>\n",
       "    <tr>\n",
       "      <th>Date</th>\n",
       "      <th></th>\n",
       "      <th></th>\n",
       "      <th></th>\n",
       "      <th></th>\n",
       "      <th></th>\n",
       "      <th></th>\n",
       "      <th></th>\n",
       "    </tr>\n",
       "  </thead>\n",
       "  <tbody>\n",
       "    <tr>\n",
       "      <th>2014-01-02 00:00:00-05:00</th>\n",
       "      <td>17.398573</td>\n",
       "      <td>17.440842</td>\n",
       "      <td>17.283977</td>\n",
       "      <td>17.318731</td>\n",
       "      <td>234684800</td>\n",
       "      <td>0.0</td>\n",
       "      <td>0.0</td>\n",
       "    </tr>\n",
       "    <tr>\n",
       "      <th>2014-01-03 00:00:00-05:00</th>\n",
       "      <td>17.310275</td>\n",
       "      <td>17.336574</td>\n",
       "      <td>16.921085</td>\n",
       "      <td>16.938307</td>\n",
       "      <td>392467600</td>\n",
       "      <td>0.0</td>\n",
       "      <td>0.0</td>\n",
       "    </tr>\n",
       "    <tr>\n",
       "      <th>2014-01-06 00:00:00-05:00</th>\n",
       "      <td>16.827779</td>\n",
       "      <td>17.120530</td>\n",
       "      <td>16.707233</td>\n",
       "      <td>17.030670</td>\n",
       "      <td>412610800</td>\n",
       "      <td>0.0</td>\n",
       "      <td>0.0</td>\n",
       "    </tr>\n",
       "    <tr>\n",
       "      <th>2014-01-07 00:00:00-05:00</th>\n",
       "      <td>17.042889</td>\n",
       "      <td>17.094237</td>\n",
       "      <td>16.842502</td>\n",
       "      <td>16.908880</td>\n",
       "      <td>317209200</td>\n",
       "      <td>0.0</td>\n",
       "      <td>0.0</td>\n",
       "    </tr>\n",
       "    <tr>\n",
       "      <th>2014-01-08 00:00:00-05:00</th>\n",
       "      <td>16.870364</td>\n",
       "      <td>17.081710</td>\n",
       "      <td>16.866608</td>\n",
       "      <td>17.015959</td>\n",
       "      <td>258529600</td>\n",
       "      <td>0.0</td>\n",
       "      <td>0.0</td>\n",
       "    </tr>\n",
       "  </tbody>\n",
       "</table>\n",
       "</div>"
      ],
      "text/plain": [
       "                                Open       High        Low      Close  \\\n",
       "Date                                                                    \n",
       "2014-01-02 00:00:00-05:00  17.398573  17.440842  17.283977  17.318731   \n",
       "2014-01-03 00:00:00-05:00  17.310275  17.336574  16.921085  16.938307   \n",
       "2014-01-06 00:00:00-05:00  16.827779  17.120530  16.707233  17.030670   \n",
       "2014-01-07 00:00:00-05:00  17.042889  17.094237  16.842502  16.908880   \n",
       "2014-01-08 00:00:00-05:00  16.870364  17.081710  16.866608  17.015959   \n",
       "\n",
       "                              Volume  Dividends  Stock Splits  \n",
       "Date                                                           \n",
       "2014-01-02 00:00:00-05:00  234684800        0.0           0.0  \n",
       "2014-01-03 00:00:00-05:00  392467600        0.0           0.0  \n",
       "2014-01-06 00:00:00-05:00  412610800        0.0           0.0  \n",
       "2014-01-07 00:00:00-05:00  317209200        0.0           0.0  \n",
       "2014-01-08 00:00:00-05:00  258529600        0.0           0.0  "
      ]
     },
     "execution_count": 5,
     "metadata": {},
     "output_type": "execute_result"
    }
   ],
   "source": [
    "df.head()"
   ]
  },
  {
   "cell_type": "code",
   "execution_count": 6,
   "metadata": {
    "colab": {
     "base_uri": "https://localhost:8080/",
     "height": 237
    },
    "id": "Tst7cq5VH7LZ",
    "outputId": "2b7073fb-3aaf-469d-9ce7-cbac47b7d1d7"
   },
   "outputs": [
    {
     "data": {
      "text/html": [
       "<div>\n",
       "<style scoped>\n",
       "    .dataframe tbody tr th:only-of-type {\n",
       "        vertical-align: middle;\n",
       "    }\n",
       "\n",
       "    .dataframe tbody tr th {\n",
       "        vertical-align: top;\n",
       "    }\n",
       "\n",
       "    .dataframe thead th {\n",
       "        text-align: right;\n",
       "    }\n",
       "</style>\n",
       "<table border=\"1\" class=\"dataframe\">\n",
       "  <thead>\n",
       "    <tr style=\"text-align: right;\">\n",
       "      <th></th>\n",
       "      <th>Open</th>\n",
       "      <th>High</th>\n",
       "      <th>Low</th>\n",
       "      <th>Close</th>\n",
       "      <th>Volume</th>\n",
       "      <th>Dividends</th>\n",
       "      <th>Stock Splits</th>\n",
       "    </tr>\n",
       "    <tr>\n",
       "      <th>Date</th>\n",
       "      <th></th>\n",
       "      <th></th>\n",
       "      <th></th>\n",
       "      <th></th>\n",
       "      <th></th>\n",
       "      <th></th>\n",
       "      <th></th>\n",
       "    </tr>\n",
       "  </thead>\n",
       "  <tbody>\n",
       "    <tr>\n",
       "      <th>2023-12-26 00:00:00-05:00</th>\n",
       "      <td>193.610001</td>\n",
       "      <td>193.889999</td>\n",
       "      <td>192.830002</td>\n",
       "      <td>193.050003</td>\n",
       "      <td>28919300</td>\n",
       "      <td>0.0</td>\n",
       "      <td>0.0</td>\n",
       "    </tr>\n",
       "    <tr>\n",
       "      <th>2023-12-27 00:00:00-05:00</th>\n",
       "      <td>192.490005</td>\n",
       "      <td>193.500000</td>\n",
       "      <td>191.089996</td>\n",
       "      <td>193.149994</td>\n",
       "      <td>48087700</td>\n",
       "      <td>0.0</td>\n",
       "      <td>0.0</td>\n",
       "    </tr>\n",
       "    <tr>\n",
       "      <th>2023-12-28 00:00:00-05:00</th>\n",
       "      <td>194.139999</td>\n",
       "      <td>194.660004</td>\n",
       "      <td>193.169998</td>\n",
       "      <td>193.580002</td>\n",
       "      <td>34049900</td>\n",
       "      <td>0.0</td>\n",
       "      <td>0.0</td>\n",
       "    </tr>\n",
       "    <tr>\n",
       "      <th>2023-12-29 00:00:00-05:00</th>\n",
       "      <td>193.899994</td>\n",
       "      <td>194.399994</td>\n",
       "      <td>191.729996</td>\n",
       "      <td>192.529999</td>\n",
       "      <td>42628800</td>\n",
       "      <td>0.0</td>\n",
       "      <td>0.0</td>\n",
       "    </tr>\n",
       "    <tr>\n",
       "      <th>2024-01-02 00:00:00-05:00</th>\n",
       "      <td>187.149994</td>\n",
       "      <td>188.440002</td>\n",
       "      <td>185.184998</td>\n",
       "      <td>185.865005</td>\n",
       "      <td>39449704</td>\n",
       "      <td>0.0</td>\n",
       "      <td>0.0</td>\n",
       "    </tr>\n",
       "  </tbody>\n",
       "</table>\n",
       "</div>"
      ],
      "text/plain": [
       "                                 Open        High         Low       Close  \\\n",
       "Date                                                                        \n",
       "2023-12-26 00:00:00-05:00  193.610001  193.889999  192.830002  193.050003   \n",
       "2023-12-27 00:00:00-05:00  192.490005  193.500000  191.089996  193.149994   \n",
       "2023-12-28 00:00:00-05:00  194.139999  194.660004  193.169998  193.580002   \n",
       "2023-12-29 00:00:00-05:00  193.899994  194.399994  191.729996  192.529999   \n",
       "2024-01-02 00:00:00-05:00  187.149994  188.440002  185.184998  185.865005   \n",
       "\n",
       "                             Volume  Dividends  Stock Splits  \n",
       "Date                                                          \n",
       "2023-12-26 00:00:00-05:00  28919300        0.0           0.0  \n",
       "2023-12-27 00:00:00-05:00  48087700        0.0           0.0  \n",
       "2023-12-28 00:00:00-05:00  34049900        0.0           0.0  \n",
       "2023-12-29 00:00:00-05:00  42628800        0.0           0.0  \n",
       "2024-01-02 00:00:00-05:00  39449704        0.0           0.0  "
      ]
     },
     "execution_count": 6,
     "metadata": {},
     "output_type": "execute_result"
    }
   ],
   "source": [
    "df.tail()"
   ]
  },
  {
   "cell_type": "code",
   "execution_count": 7,
   "metadata": {
    "id": "Kn5SwYeDIGJl"
   },
   "outputs": [],
   "source": [
    "df = df.reset_index()"
   ]
  },
  {
   "cell_type": "code",
   "execution_count": 8,
   "metadata": {
    "colab": {
     "base_uri": "https://localhost:8080/",
     "height": 206
    },
    "id": "Z_sP6pueIPwq",
    "outputId": "54e39e03-b258-4584-b1f1-e2b3977e6b43"
   },
   "outputs": [
    {
     "data": {
      "text/html": [
       "<div>\n",
       "<style scoped>\n",
       "    .dataframe tbody tr th:only-of-type {\n",
       "        vertical-align: middle;\n",
       "    }\n",
       "\n",
       "    .dataframe tbody tr th {\n",
       "        vertical-align: top;\n",
       "    }\n",
       "\n",
       "    .dataframe thead th {\n",
       "        text-align: right;\n",
       "    }\n",
       "</style>\n",
       "<table border=\"1\" class=\"dataframe\">\n",
       "  <thead>\n",
       "    <tr style=\"text-align: right;\">\n",
       "      <th></th>\n",
       "      <th>Date</th>\n",
       "      <th>Open</th>\n",
       "      <th>High</th>\n",
       "      <th>Low</th>\n",
       "      <th>Close</th>\n",
       "      <th>Volume</th>\n",
       "      <th>Dividends</th>\n",
       "      <th>Stock Splits</th>\n",
       "    </tr>\n",
       "  </thead>\n",
       "  <tbody>\n",
       "    <tr>\n",
       "      <th>0</th>\n",
       "      <td>2014-01-02 00:00:00-05:00</td>\n",
       "      <td>17.398573</td>\n",
       "      <td>17.440842</td>\n",
       "      <td>17.283977</td>\n",
       "      <td>17.318731</td>\n",
       "      <td>234684800</td>\n",
       "      <td>0.0</td>\n",
       "      <td>0.0</td>\n",
       "    </tr>\n",
       "    <tr>\n",
       "      <th>1</th>\n",
       "      <td>2014-01-03 00:00:00-05:00</td>\n",
       "      <td>17.310275</td>\n",
       "      <td>17.336574</td>\n",
       "      <td>16.921085</td>\n",
       "      <td>16.938307</td>\n",
       "      <td>392467600</td>\n",
       "      <td>0.0</td>\n",
       "      <td>0.0</td>\n",
       "    </tr>\n",
       "    <tr>\n",
       "      <th>2</th>\n",
       "      <td>2014-01-06 00:00:00-05:00</td>\n",
       "      <td>16.827779</td>\n",
       "      <td>17.120530</td>\n",
       "      <td>16.707233</td>\n",
       "      <td>17.030670</td>\n",
       "      <td>412610800</td>\n",
       "      <td>0.0</td>\n",
       "      <td>0.0</td>\n",
       "    </tr>\n",
       "    <tr>\n",
       "      <th>3</th>\n",
       "      <td>2014-01-07 00:00:00-05:00</td>\n",
       "      <td>17.042889</td>\n",
       "      <td>17.094237</td>\n",
       "      <td>16.842502</td>\n",
       "      <td>16.908880</td>\n",
       "      <td>317209200</td>\n",
       "      <td>0.0</td>\n",
       "      <td>0.0</td>\n",
       "    </tr>\n",
       "    <tr>\n",
       "      <th>4</th>\n",
       "      <td>2014-01-08 00:00:00-05:00</td>\n",
       "      <td>16.870364</td>\n",
       "      <td>17.081710</td>\n",
       "      <td>16.866608</td>\n",
       "      <td>17.015959</td>\n",
       "      <td>258529600</td>\n",
       "      <td>0.0</td>\n",
       "      <td>0.0</td>\n",
       "    </tr>\n",
       "  </tbody>\n",
       "</table>\n",
       "</div>"
      ],
      "text/plain": [
       "                       Date       Open       High        Low      Close  \\\n",
       "0 2014-01-02 00:00:00-05:00  17.398573  17.440842  17.283977  17.318731   \n",
       "1 2014-01-03 00:00:00-05:00  17.310275  17.336574  16.921085  16.938307   \n",
       "2 2014-01-06 00:00:00-05:00  16.827779  17.120530  16.707233  17.030670   \n",
       "3 2014-01-07 00:00:00-05:00  17.042889  17.094237  16.842502  16.908880   \n",
       "4 2014-01-08 00:00:00-05:00  16.870364  17.081710  16.866608  17.015959   \n",
       "\n",
       "      Volume  Dividends  Stock Splits  \n",
       "0  234684800        0.0           0.0  \n",
       "1  392467600        0.0           0.0  \n",
       "2  412610800        0.0           0.0  \n",
       "3  317209200        0.0           0.0  \n",
       "4  258529600        0.0           0.0  "
      ]
     },
     "execution_count": 8,
     "metadata": {},
     "output_type": "execute_result"
    }
   ],
   "source": [
    "df.head()"
   ]
  },
  {
   "cell_type": "code",
   "execution_count": 9,
   "metadata": {
    "id": "abW9ZkQhIRTA"
   },
   "outputs": [],
   "source": [
    "df = df.drop(['Date', 'Dividends', 'Stock Splits'], axis=1)"
   ]
  },
  {
   "cell_type": "code",
   "execution_count": 10,
   "metadata": {
    "colab": {
     "base_uri": "https://localhost:8080/",
     "height": 206
    },
    "id": "S0TkZ1gQIqGW",
    "outputId": "bfe87cf3-9b2e-4db9-8c85-d1b9996a5efa"
   },
   "outputs": [
    {
     "data": {
      "text/html": [
       "<div>\n",
       "<style scoped>\n",
       "    .dataframe tbody tr th:only-of-type {\n",
       "        vertical-align: middle;\n",
       "    }\n",
       "\n",
       "    .dataframe tbody tr th {\n",
       "        vertical-align: top;\n",
       "    }\n",
       "\n",
       "    .dataframe thead th {\n",
       "        text-align: right;\n",
       "    }\n",
       "</style>\n",
       "<table border=\"1\" class=\"dataframe\">\n",
       "  <thead>\n",
       "    <tr style=\"text-align: right;\">\n",
       "      <th></th>\n",
       "      <th>Open</th>\n",
       "      <th>High</th>\n",
       "      <th>Low</th>\n",
       "      <th>Close</th>\n",
       "      <th>Volume</th>\n",
       "    </tr>\n",
       "  </thead>\n",
       "  <tbody>\n",
       "    <tr>\n",
       "      <th>0</th>\n",
       "      <td>17.398573</td>\n",
       "      <td>17.440842</td>\n",
       "      <td>17.283977</td>\n",
       "      <td>17.318731</td>\n",
       "      <td>234684800</td>\n",
       "    </tr>\n",
       "    <tr>\n",
       "      <th>1</th>\n",
       "      <td>17.310275</td>\n",
       "      <td>17.336574</td>\n",
       "      <td>16.921085</td>\n",
       "      <td>16.938307</td>\n",
       "      <td>392467600</td>\n",
       "    </tr>\n",
       "    <tr>\n",
       "      <th>2</th>\n",
       "      <td>16.827779</td>\n",
       "      <td>17.120530</td>\n",
       "      <td>16.707233</td>\n",
       "      <td>17.030670</td>\n",
       "      <td>412610800</td>\n",
       "    </tr>\n",
       "    <tr>\n",
       "      <th>3</th>\n",
       "      <td>17.042889</td>\n",
       "      <td>17.094237</td>\n",
       "      <td>16.842502</td>\n",
       "      <td>16.908880</td>\n",
       "      <td>317209200</td>\n",
       "    </tr>\n",
       "    <tr>\n",
       "      <th>4</th>\n",
       "      <td>16.870364</td>\n",
       "      <td>17.081710</td>\n",
       "      <td>16.866608</td>\n",
       "      <td>17.015959</td>\n",
       "      <td>258529600</td>\n",
       "    </tr>\n",
       "  </tbody>\n",
       "</table>\n",
       "</div>"
      ],
      "text/plain": [
       "        Open       High        Low      Close     Volume\n",
       "0  17.398573  17.440842  17.283977  17.318731  234684800\n",
       "1  17.310275  17.336574  16.921085  16.938307  392467600\n",
       "2  16.827779  17.120530  16.707233  17.030670  412610800\n",
       "3  17.042889  17.094237  16.842502  16.908880  317209200\n",
       "4  16.870364  17.081710  16.866608  17.015959  258529600"
      ]
     },
     "execution_count": 10,
     "metadata": {},
     "output_type": "execute_result"
    }
   ],
   "source": [
    "df.head()"
   ]
  },
  {
   "cell_type": "code",
   "execution_count": 11,
   "metadata": {
    "colab": {
     "base_uri": "https://localhost:8080/",
     "height": 447
    },
    "id": "fP3AbMdkIwpJ",
    "outputId": "3ac8b65f-fe0f-4939-aa80-a9b0aa815c74"
   },
   "outputs": [
    {
     "data": {
      "text/plain": [
       "[<matplotlib.lines.Line2D at 0x196dfa9ba90>]"
      ]
     },
     "execution_count": 11,
     "metadata": {},
     "output_type": "execute_result"
    },
    {
     "data": {
      "image/png": "[encoded data removed]",
      "text/plain": [
       "<Figure size 640x480 with 1 Axes>"
      ]
     },
     "metadata": {},
     "output_type": "display_data"
    }
   ],
   "source": [
    "plt.plot(df.Close)"
   ]
  },
  {
   "cell_type": "code",
   "execution_count": 12,
   "metadata": {
    "colab": {
     "base_uri": "https://localhost:8080/"
    },
    "id": "MBKaqZjiI3G7",
    "outputId": "3d85a383-3420-4b32-9b55-b52825180159"
   },
   "outputs": [
    {
     "data": {
      "text/plain": [
       "0              NaN\n",
       "1              NaN\n",
       "2              NaN\n",
       "3              NaN\n",
       "4              NaN\n",
       "           ...    \n",
       "2512    181.614205\n",
       "2513    181.730650\n",
       "2514    181.882712\n",
       "2515    182.014799\n",
       "2516    182.096293\n",
       "Name: Close, Length: 2517, dtype: float64"
      ]
     },
     "execution_count": 12,
     "metadata": {},
     "output_type": "execute_result"
    }
   ],
   "source": [
    "ma100 = df.Close.rolling(100).mean()\n",
    "ma100"
   ]
  },
  {
   "cell_type": "code",
   "execution_count": 13,
   "metadata": {
    "colab": {
     "base_uri": "https://localhost:8080/",
     "height": 539
    },
    "id": "Zc1Tw6gOJZ75",
    "outputId": "8cb447a0-c74c-404d-d2cc-0b081bc12708"
   },
   "outputs": [
    {
     "data": {
      "text/plain": [
       "[<matplotlib.lines.Line2D at 0x196e0393810>]"
      ]
     },
     "execution_count": 13,
     "metadata": {},
     "output_type": "execute_result"
    },
    {
     "data": {
      "image/png": "[encoded data removed]",
      "text/plain": [
       "<Figure size 1200x600 with 1 Axes>"
      ]
     },
     "metadata": {},
     "output_type": "display_data"
    }
   ],
   "source": [
    "plt.figure(figsize=(12,6))\n",
    "plt.plot(df.Close)\n",
    "plt.plot(ma100, 'r')"
   ]
  },
  {
   "cell_type": "code",
   "execution_count": 14,
   "metadata": {
    "colab": {
     "base_uri": "https://localhost:8080/"
    },
    "id": "z-scZqxcJzHy",
    "outputId": "154ae650-b822-4d38-c282-4e8059aa4edb"
   },
   "outputs": [
    {
     "data": {
      "text/plain": [
       "0              NaN\n",
       "1              NaN\n",
       "2              NaN\n",
       "3              NaN\n",
       "4              NaN\n",
       "           ...    \n",
       "2512    178.502683\n",
       "2513    178.719123\n",
       "2514    178.927155\n",
       "2515    179.127945\n",
       "2516    179.281169\n",
       "Name: Close, Length: 2517, dtype: float64"
      ]
     },
     "execution_count": 14,
     "metadata": {},
     "output_type": "execute_result"
    }
   ],
   "source": [
    "ma200 = df.Close.rolling(200).mean()\n",
    "ma200"
   ]
  },
  {
   "cell_type": "code",
   "execution_count": 15,
   "metadata": {
    "colab": {
     "base_uri": "https://localhost:8080/",
     "height": 539
    },
    "id": "IZp7KaF7KBet",
    "outputId": "0f7c7e5a-5542-4685-c943-95fb61f3b559"
   },
   "outputs": [
    {
     "data": {
      "text/plain": [
       "[<matplotlib.lines.Line2D at 0x196e0437550>]"
      ]
     },
     "execution_count": 15,
     "metadata": {},
     "output_type": "execute_result"
    },
    {
     "data": {
      "image/png": "[encoded data removed]",
      "text/plain": [
       "<Figure size 1200x600 with 1 Axes>"
      ]
     },
     "metadata": {},
     "output_type": "display_data"
    }
   ],
   "source": [
    "plt.figure(figsize=(12,6))\n",
    "plt.plot(df.Close)\n",
    "plt.plot(ma100, 'r')\n",
    "plt.plot(ma200, 'g')"
   ]
  },
  {
   "cell_type": "code",
   "execution_count": 16,
   "metadata": {
    "colab": {
     "base_uri": "https://localhost:8080/"
    },
    "id": "wXLVB80zKKwJ",
    "outputId": "d91691ee-90a9-432f-f89b-4a8039290516"
   },
   "outputs": [
    {
     "data": {
      "text/plain": [
       "(2517, 5)"
      ]
     },
     "execution_count": 16,
     "metadata": {},
     "output_type": "execute_result"
    }
   ],
   "source": [
    "df.shape"
   ]
  },
  {
   "cell_type": "code",
   "execution_count": 17,
   "metadata": {
    "colab": {
     "base_uri": "https://localhost:8080/"
    },
    "id": "8t0QhRbuKM-u",
    "outputId": "555d6fa1-fb2a-4205-dd38-494281990f97"
   },
   "outputs": [
    {
     "name": "stdout",
     "output_type": "stream",
     "text": [
      "(1761, 1)\n",
      "(756, 1)\n"
     ]
    }
   ],
   "source": [
    "# splitting data into training and testing\n",
    "\n",
    "data_training = pd.DataFrame(df['Close'][0:int(len(df)*0.70)])\n",
    "data_testing = pd.DataFrame(df['Close'][int(len(df)*0.70):int(len(df))])\n",
    "\n",
    "print(data_training.shape)\n",
    "print(data_testing.shape)"
   ]
  },
  {
   "cell_type": "code",
   "execution_count": 18,
   "metadata": {
    "id": "AfJr4IqiLJdf"
   },
   "outputs": [],
   "source": [
    "from sklearn.preprocessing import MinMaxScaler\n",
    "scaler = MinMaxScaler(feature_range=(0,1))"
   ]
  },
  {
   "cell_type": "code",
   "execution_count": 19,
   "metadata": {
    "colab": {
     "base_uri": "https://localhost:8080/"
    },
    "id": "qVzdRMD0Lkny",
    "outputId": "42b397dc-e9c0-4a48-cdfe-0027509e2d4c"
   },
   "outputs": [
    {
     "data": {
      "text/plain": [
       "array([[0.01407617],\n",
       "       [0.01087042],\n",
       "       [0.01164875],\n",
       "       ...,\n",
       "       [0.96091576],\n",
       "       [1.        ],\n",
       "       [0.98492913]])"
      ]
     },
     "execution_count": 19,
     "metadata": {},
     "output_type": "execute_result"
    }
   ],
   "source": [
    "data_training_array = scaler.fit_transform(data_training)\n",
    "data_training_array"
   ]
  },
  {
   "cell_type": "code",
   "execution_count": 20,
   "metadata": {
    "id": "F1kwXfj_OUSf"
   },
   "outputs": [],
   "source": [
    "x_train = []\n",
    "y_train = []\n",
    "\n",
    "for i in range(100, data_training_array.shape[0]):\n",
    "    x_train.append(data_training_array[i-100:i])\n",
    "    y_train.append(data_training_array[i,0])\n",
    "    \n",
    "# we have to provide the data to lSTM model that's wht we are converting it into numpy arrays\n",
    "x_train, y_train, = np.array(x_train), np.array(y_train)"
   ]
  },
  {
   "cell_type": "code",
   "execution_count": 21,
   "metadata": {
    "id": "v0WvlQbFQHpM"
   },
   "outputs": [
    {
     "name": "stdout",
     "output_type": "stream",
     "text": [
      "WARNING:tensorflow:From C:\\Users\\anike\\anaconda3\\Lib\\site-packages\\keras\\src\\losses.py:2976: The name tf.losses.sparse_softmax_cross_entropy is deprecated. Please use tf.compat.v1.losses.sparse_softmax_cross_entropy instead.\n",
      "\n"
     ]
    }
   ],
   "source": [
    "# ML model\n",
    "from keras.layers import Dense, Dropout, LSTM\n",
    "from keras.models import Sequential"
   ]
  },
  {
   "cell_type": "code",
   "execution_count": 22,
   "metadata": {
    "id": "LPrICbeHQV1n"
   },
   "outputs": [
    {
     "name": "stdout",
     "output_type": "stream",
     "text": [
      "WARNING:tensorflow:From C:\\Users\\anike\\anaconda3\\Lib\\site-packages\\keras\\src\\backend.py:873: The name tf.get_default_graph is deprecated. Please use tf.compat.v1.get_default_graph instead.\n",
      "\n"
     ]
    }
   ],
   "source": [
    "model = Sequential()\n",
    "model.add(LSTM(units = 50, activation = 'relu', return_sequences = True, input_shape = (x_train.shape[1], 1)))\n",
    "model.add(Dropout(0.2))\n",
    "\n",
    "model.add(LSTM(units = 50, activation = 'relu', return_sequences = True))\n",
    "model.add(Dropout(0.3))\n",
    "\n",
    "model.add(LSTM(units = 80, activation = 'relu', return_sequences = True))\n",
    "model.add(Dropout(0.4))\n",
    "\n",
    "model.add(LSTM(units = 120, activation = 'relu'))\n",
    "model.add(Dropout(0.5))\n",
    "\n",
    "model.add(Dense(units = 1))"
   ]
  },
  {
   "cell_type": "code",
   "execution_count": 23,
   "metadata": {
    "colab": {
     "base_uri": "https://localhost:8080/"
    },
    "id": "JS3_N7xTRs-2",
    "outputId": "0f25567a-413f-4a78-c7ca-36011fde6d33"
   },
   "outputs": [
    {
     "name": "stdout",
     "output_type": "stream",
     "text": [
      "Model: \"sequential\"\n",
      "_________________________________________________________________\n",
      " Layer (type)                Output Shape              Param #   \n",
      "=================================================================\n",
      " lstm (LSTM)                 (None, 100, 50)           10400     \n",
      "                                                                 \n",
      " dropout (Dropout)           (None, 100, 50)           0         \n",
      "                                                                 \n",
      " lstm_1 (LSTM)               (None, 100, 50)           20200     \n",
      "                                                                 \n",
      " dropout_1 (Dropout)         (None, 100, 50)           0         \n",
      "                                                                 \n",
      " lstm_2 (LSTM)               (None, 100, 80)           41920     \n",
      "                                                                 \n",
      " dropout_2 (Dropout)         (None, 100, 80)           0         \n",
      "                                                                 \n",
      " lstm_3 (LSTM)               (None, 120)               96480     \n",
      "                                                                 \n",
      " dropout_3 (Dropout)         (None, 120)               0         \n",
      "                                                                 \n",
      " dense (Dense)               (None, 1)                 121       \n",
      "                                                                 \n",
      "=================================================================\n",
      "Total params: 169121 (660.63 KB)\n",
      "Trainable params: 169121 (660.63 KB)\n",
      "Non-trainable params: 0 (0.00 Byte)\n",
      "_________________________________________________________________\n"
     ]
    }
   ],
   "source": [
    "model.summary()"
   ]
  },
  {
   "cell_type": "code",
   "execution_count": 24,
   "metadata": {
    "colab": {
     "base_uri": "https://localhost:8080/"
    },
    "id": "b0Vu7pUTRv7B",
    "outputId": "c992da04-2154-4df9-d166-43cfad5c801e"
   },
   "outputs": [
    {
     "name": "stdout",
     "output_type": "stream",
     "text": [
      "WARNING:tensorflow:From C:\\Users\\anike\\anaconda3\\Lib\\site-packages\\keras\\src\\optimizers\\__init__.py:309: The name tf.train.Optimizer is deprecated. Please use tf.compat.v1.train.Optimizer instead.\n",
      "\n",
      "Epoch 1/50\n",
      "WARNING:tensorflow:From C:\\Users\\anike\\anaconda3\\Lib\\site-packages\\keras\\src\\utils\\tf_utils.py:492: The name tf.ragged.RaggedTensorValue is deprecated. Please use tf.compat.v1.ragged.RaggedTensorValue instead.\n",
      "\n",
      "52/52 [==============================] - 29s 360ms/step - loss: 0.0223\n",
      "Epoch 2/50\n",
      "52/52 [==============================] - 20s 389ms/step - loss: 0.0051\n",
      "Epoch 3/50\n",
      "52/52 [==============================] - 19s 369ms/step - loss: 0.0048\n",
      "Epoch 4/50\n",
      "52/52 [==============================] - 19s 358ms/step - loss: 0.0038\n",
      "Epoch 5/50\n",
      "52/52 [==============================] - 19s 364ms/step - loss: 0.0035\n",
      "Epoch 6/50\n",
      "52/52 [==============================] - 19s 370ms/step - loss: 0.0030\n",
      "Epoch 7/50\n",
      "52/52 [==============================] - 18s 354ms/step - loss: 0.0033\n",
      "Epoch 8/50\n",
      "52/52 [==============================] - 18s 343ms/step - loss: 0.0028\n",
      "Epoch 9/50\n",
      "52/52 [==============================] - 18s 347ms/step - loss: 0.0029\n",
      "Epoch 10/50\n",
      "52/52 [==============================] - 17s 335ms/step - loss: 0.0031\n",
      "Epoch 11/50\n",
      "52/52 [==============================] - 18s 345ms/step - loss: 0.0032\n",
      "Epoch 12/50\n",
      "52/52 [==============================] - 18s 343ms/step - loss: 0.0028\n",
      "Epoch 13/50\n",
      "52/52 [==============================] - 18s 336ms/step - loss: 0.0032\n",
      "Epoch 14/50\n",
      "52/52 [==============================] - 17s 336ms/step - loss: 0.0025\n",
      "Epoch 15/50\n",
      "52/52 [==============================] - 18s 341ms/step - loss: 0.0024\n",
      "Epoch 16/50\n",
      "52/52 [==============================] - 17s 332ms/step - loss: 0.0023\n",
      "Epoch 17/50\n",
      "52/52 [==============================] - 17s 333ms/step - loss: 0.0025\n",
      "Epoch 18/50\n",
      "52/52 [==============================] - 17s 334ms/step - loss: 0.0020\n",
      "Epoch 19/50\n",
      "52/52 [==============================] - 18s 344ms/step - loss: 0.0022\n",
      "Epoch 20/50\n",
      "52/52 [==============================] - 18s 340ms/step - loss: 0.0022\n",
      "Epoch 21/50\n",
      "52/52 [==============================] - 17s 325ms/step - loss: 0.0022\n",
      "Epoch 22/50\n",
      "52/52 [==============================] - 18s 337ms/step - loss: 0.0016\n",
      "Epoch 23/50\n",
      "52/52 [==============================] - 17s 331ms/step - loss: 0.0022\n",
      "Epoch 24/50\n",
      "52/52 [==============================] - 17s 336ms/step - loss: 0.0022\n",
      "Epoch 25/50\n",
      "52/52 [==============================] - 17s 333ms/step - loss: 0.0020\n",
      "Epoch 26/50\n",
      "52/52 [==============================] - 18s 347ms/step - loss: 0.0019\n",
      "Epoch 27/50\n",
      "52/52 [==============================] - 18s 349ms/step - loss: 0.0019\n",
      "Epoch 28/50\n",
      "52/52 [==============================] - 19s 359ms/step - loss: 0.0019\n",
      "Epoch 29/50\n",
      "52/52 [==============================] - 20s 386ms/step - loss: 0.0019\n",
      "Epoch 30/50\n",
      "52/52 [==============================] - 19s 357ms/step - loss: 0.0022\n",
      "Epoch 31/50\n",
      "52/52 [==============================] - 19s 357ms/step - loss: 0.0019\n",
      "Epoch 32/50\n",
      "52/52 [==============================] - 20s 383ms/step - loss: 0.0020\n",
      "Epoch 33/50\n",
      "52/52 [==============================] - 21s 414ms/step - loss: 0.0016\n",
      "Epoch 34/50\n",
      "52/52 [==============================] - 19s 363ms/step - loss: 0.0018\n",
      "Epoch 35/50\n",
      "52/52 [==============================] - 20s 386ms/step - loss: 0.0017\n",
      "Epoch 36/50\n",
      "52/52 [==============================] - 19s 366ms/step - loss: 0.0019\n",
      "Epoch 37/50\n",
      "52/52 [==============================] - 20s 396ms/step - loss: 0.0016\n",
      "Epoch 38/50\n",
      "52/52 [==============================] - 17s 318ms/step - loss: 0.0017\n",
      "Epoch 39/50\n",
      "52/52 [==============================] - 19s 356ms/step - loss: 0.0017\n",
      "Epoch 40/50\n",
      "52/52 [==============================] - 18s 337ms/step - loss: 0.0016\n",
      "Epoch 41/50\n",
      "52/52 [==============================] - 18s 343ms/step - loss: 0.0017\n",
      "Epoch 42/50\n",
      "52/52 [==============================] - 18s 352ms/step - loss: 0.0017\n",
      "Epoch 43/50\n",
      "52/52 [==============================] - 18s 339ms/step - loss: 0.0021\n",
      "Epoch 44/50\n",
      "52/52 [==============================] - 20s 377ms/step - loss: 0.0017\n",
      "Epoch 45/50\n",
      "52/52 [==============================] - 17s 332ms/step - loss: 0.0016\n",
      "Epoch 46/50\n",
      "52/52 [==============================] - 18s 338ms/step - loss: 0.0019\n",
      "Epoch 47/50\n",
      "52/52 [==============================] - 18s 344ms/step - loss: 0.0018\n",
      "Epoch 48/50\n",
      "52/52 [==============================] - 18s 344ms/step - loss: 0.0019\n",
      "Epoch 49/50\n",
      "52/52 [==============================] - 18s 343ms/step - loss: 0.0015\n",
      "Epoch 50/50\n",
      "52/52 [==============================] - 18s 344ms/step - loss: 0.0015\n"
     ]
    },
    {
     "data": {
      "text/plain": [
       "<keras.src.callbacks.History at 0x196ede689d0>"
      ]
     },
     "execution_count": 24,
     "metadata": {},
     "output_type": "execute_result"
    }
   ],
   "source": [
    "model.compile(optimizer = 'adam', loss = 'mean_squared_error')\n",
    "model.fit(x_train, y_train, epochs=50)"
   ]
  },
  {
   "cell_type": "code",
   "execution_count": 25,
   "metadata": {
    "colab": {
     "base_uri": "https://localhost:8080/"
    },
    "id": "903I3EDWSBSr",
    "outputId": "9ae50911-ba31-41cb-c4c3-558fc2d039c2"
   },
   "outputs": [
    {
     "name": "stderr",
     "output_type": "stream",
     "text": [
      "C:\\Users\\anike\\anaconda3\\Lib\\site-packages\\keras\\src\\engine\\training.py:3103: UserWarning: You are saving your model as an HDF5 file via `model.save()`. This file format is considered legacy. We recommend using instead the native Keras format, e.g. `model.save('my_model.keras')`.\n",
      "  saving_api.save_model(\n"
     ]
    }
   ],
   "source": [
    "model.save('keras_model.h5')"
   ]
  },
  {
   "cell_type": "code",
   "execution_count": 26,
   "metadata": {
    "id": "5Qaff7CGS-jd"
   },
   "outputs": [],
   "source": [
    "past_100_days = data_training.tail(100)"
   ]
  },
  {
   "cell_type": "code",
   "execution_count": 37,
   "metadata": {
    "colab": {
     "base_uri": "https://localhost:8080/"
    },
    "id": "ao5DKwljS-l2",
    "outputId": "410476f8-c0d4-4a33-c669-d6025c7bfddb"
   },
   "outputs": [],
   "source": [
    "final_df = pd.concat([past_100_days, data_testing], ignore_index=True)"
   ]
  },
  {
   "cell_type": "code",
   "execution_count": 38,
   "metadata": {
    "colab": {
     "base_uri": "https://localhost:8080/",
     "height": 206
    },
    "id": "BUQgiwTDS-pP",
    "outputId": "89f44319-d01e-4cc6-e05c-50758fe4f89e"
   },
   "outputs": [
    {
     "data": {
      "text/html": [
       "<div>\n",
       "<style scoped>\n",
       "    .dataframe tbody tr th:only-of-type {\n",
       "        vertical-align: middle;\n",
       "    }\n",
       "\n",
       "    .dataframe tbody tr th {\n",
       "        vertical-align: top;\n",
       "    }\n",
       "\n",
       "    .dataframe thead th {\n",
       "        text-align: right;\n",
       "    }\n",
       "</style>\n",
       "<table border=\"1\" class=\"dataframe\">\n",
       "  <thead>\n",
       "    <tr style=\"text-align: right;\">\n",
       "      <th></th>\n",
       "      <th>Close</th>\n",
       "    </tr>\n",
       "  </thead>\n",
       "  <tbody>\n",
       "    <tr>\n",
       "      <th>0</th>\n",
       "      <td>108.996155</td>\n",
       "    </tr>\n",
       "    <tr>\n",
       "      <th>1</th>\n",
       "      <td>110.580391</td>\n",
       "    </tr>\n",
       "    <tr>\n",
       "      <th>2</th>\n",
       "      <td>107.291763</td>\n",
       "    </tr>\n",
       "    <tr>\n",
       "      <th>3</th>\n",
       "      <td>110.857521</td>\n",
       "    </tr>\n",
       "    <tr>\n",
       "      <th>4</th>\n",
       "      <td>112.819420</td>\n",
       "    </tr>\n",
       "  </tbody>\n",
       "</table>\n",
       "</div>"
      ],
      "text/plain": [
       "        Close\n",
       "0  108.996155\n",
       "1  110.580391\n",
       "2  107.291763\n",
       "3  110.857521\n",
       "4  112.819420"
      ]
     },
     "execution_count": 38,
     "metadata": {},
     "output_type": "execute_result"
    }
   ],
   "source": [
    "final_df.head()"
   ]
  },
  {
   "cell_type": "code",
   "execution_count": 39,
   "metadata": {
    "id": "sf0ASLHsTsg4"
   },
   "outputs": [],
   "source": [
    "input_data = scaler.fit_transform(final_df)"
   ]
  },
  {
   "cell_type": "code",
   "execution_count": 40,
   "metadata": {
    "colab": {
     "base_uri": "https://localhost:8080/"
    },
    "id": "ZSgJYu7FTsjN",
    "outputId": "77be8819-dd9c-46b7-a5cb-a686365f93be"
   },
   "outputs": [
    {
     "data": {
      "text/plain": [
       "(856, 1)"
      ]
     },
     "execution_count": 40,
     "metadata": {},
     "output_type": "execute_result"
    }
   ],
   "source": [
    "input_data.shape"
   ]
  },
  {
   "cell_type": "code",
   "execution_count": 41,
   "metadata": {
    "id": "1GBV1c-gTslj"
   },
   "outputs": [],
   "source": [
    "x_test = []\n",
    "y_test = []\n",
    "\n",
    "for i in range(100, input_data.shape[0]):\n",
    "    x_test.append(input_data[i-100:i])\n",
    "    y_test.append(input_data[i,0])"
   ]
  },
  {
   "cell_type": "code",
   "execution_count": 42,
   "metadata": {
    "colab": {
     "base_uri": "https://localhost:8080/"
    },
    "id": "7Z9TYd79TsoM",
    "outputId": "2fcb090f-5a6b-44f2-986a-f3a1cde5257a"
   },
   "outputs": [
    {
     "name": "stdout",
     "output_type": "stream",
     "text": [
      "(756, 100, 1)\n",
      "(756,)\n"
     ]
    }
   ],
   "source": [
    "x_test, y_test, = np.array(x_test), np.array(y_test)\n",
    "print(x_test.shape)\n",
    "print(y_test.shape)"
   ]
  },
  {
   "cell_type": "code",
   "execution_count": 43,
   "metadata": {
    "colab": {
     "base_uri": "https://localhost:8080/"
    },
    "id": "vK5S9MxmTsro",
    "outputId": "2a29aa24-e628-4727-d5c5-3821a029fb7e"
   },
   "outputs": [
    {
     "name": "stdout",
     "output_type": "stream",
     "text": [
      "24/24 [==============================] - 4s 94ms/step\n"
     ]
    }
   ],
   "source": [
    "# Making Predictons\n",
    "\n",
    "y_predicted = model.predict(x_test)"
   ]
  },
  {
   "cell_type": "code",
   "execution_count": 44,
   "metadata": {
    "colab": {
     "base_uri": "https://localhost:8080/"
    },
    "id": "vGlbQz0wVOsB",
    "outputId": "41fd2031-8bd5-4810-947b-c59bb26af1a7"
   },
   "outputs": [
    {
     "data": {
      "text/plain": [
       "(756, 1)"
      ]
     },
     "execution_count": 44,
     "metadata": {},
     "output_type": "execute_result"
    }
   ],
   "source": [
    "y_predicted.shape"
   ]
  },
  {
   "cell_type": "code",
   "execution_count": 45,
   "metadata": {
    "colab": {
     "base_uri": "https://localhost:8080/"
    },
    "id": "i7t9M5wTVOvh",
    "outputId": "b53e786a-829b-483a-d77f-1a4f4c628d74"
   },
   "outputs": [
    {
     "data": {
      "text/plain": [
       "array([[0.20209993],\n",
       "       [0.21169502],\n",
       "       [0.22352883],\n",
       "       [0.23610517],\n",
       "       [0.24777651],\n",
       "       [0.25689775],\n",
       "       [0.2630362 ],\n",
       "       [0.2664833 ],\n",
       "       [0.26766276],\n",
       "       [0.26700133],\n",
       "       [0.26513663],\n",
       "       [0.26250544],\n",
       "       [0.25916755],\n",
       "       [0.2552152 ],\n",
       "       [0.25120977],\n",
       "       [0.24852216],\n",
       "       [0.24839613],\n",
       "       [0.25151622],\n",
       "       [0.25845882],\n",
       "       [0.2692358 ],\n",
       "       [0.2826645 ],\n",
       "       [0.29644427],\n",
       "       [0.30864525],\n",
       "       [0.31800735],\n",
       "       [0.32407784],\n",
       "       [0.32707077],\n",
       "       [0.32767534],\n",
       "       [0.3267213 ],\n",
       "       [0.32489178],\n",
       "       [0.32265174],\n",
       "       [0.3202686 ],\n",
       "       [0.3179304 ],\n",
       "       [0.3154854 ],\n",
       "       [0.31247428],\n",
       "       [0.30849195],\n",
       "       [0.30345362],\n",
       "       [0.29734683],\n",
       "       [0.29027843],\n",
       "       [0.2823359 ],\n",
       "       [0.27334684],\n",
       "       [0.26332927],\n",
       "       [0.25307763],\n",
       "       [0.24343482],\n",
       "       [0.23469433],\n",
       "       [0.22700788],\n",
       "       [0.22058158],\n",
       "       [0.21516322],\n",
       "       [0.21061704],\n",
       "       [0.20660372],\n",
       "       [0.20285478],\n",
       "       [0.19908352],\n",
       "       [0.19542035],\n",
       "       [0.19221471],\n",
       "       [0.18972278],\n",
       "       [0.18792245],\n",
       "       [0.18667825],\n",
       "       [0.18590257],\n",
       "       [0.18551022],\n",
       "       [0.18535313],\n",
       "       [0.18529736],\n",
       "       [0.18525164],\n",
       "       [0.18516399],\n",
       "       [0.1849666 ],\n",
       "       [0.18467057],\n",
       "       [0.18434182],\n",
       "       [0.18414362],\n",
       "       [0.18423575],\n",
       "       [0.1847142 ],\n",
       "       [0.18562558],\n",
       "       [0.18708017],\n",
       "       [0.18905073],\n",
       "       [0.1916351 ],\n",
       "       [0.19559623],\n",
       "       [0.20175119],\n",
       "       [0.21085909],\n",
       "       [0.22263396],\n",
       "       [0.23606114],\n",
       "       [0.24956474],\n",
       "       [0.26181728],\n",
       "       [0.27213782],\n",
       "       [0.2803214 ],\n",
       "       [0.2864672 ],\n",
       "       [0.2907128 ],\n",
       "       [0.29327303],\n",
       "       [0.29420105],\n",
       "       [0.29369447],\n",
       "       [0.29170972],\n",
       "       [0.28834546],\n",
       "       [0.28393552],\n",
       "       [0.2789126 ],\n",
       "       [0.27343592],\n",
       "       [0.26740503],\n",
       "       [0.26061797],\n",
       "       [0.25319007],\n",
       "       [0.24572438],\n",
       "       [0.2386511 ],\n",
       "       [0.23226652],\n",
       "       [0.2265746 ],\n",
       "       [0.22173648],\n",
       "       [0.217787  ],\n",
       "       [0.21469805],\n",
       "       [0.21235856],\n",
       "       [0.21066223],\n",
       "       [0.2094695 ],\n",
       "       [0.20862353],\n",
       "       [0.20797463],\n",
       "       [0.20742732],\n",
       "       [0.20689967],\n",
       "       [0.206387  ],\n",
       "       [0.20591336],\n",
       "       [0.20552331],\n",
       "       [0.20526932],\n",
       "       [0.2051621 ],\n",
       "       [0.20522593],\n",
       "       [0.20558906],\n",
       "       [0.20644209],\n",
       "       [0.20804815],\n",
       "       [0.21106656],\n",
       "       [0.21562736],\n",
       "       [0.22172707],\n",
       "       [0.22945637],\n",
       "       [0.23845339],\n",
       "       [0.24829316],\n",
       "       [0.25829494],\n",
       "       [0.2679593 ],\n",
       "       [0.2770587 ],\n",
       "       [0.2855476 ],\n",
       "       [0.29346758],\n",
       "       [0.30110022],\n",
       "       [0.30887067],\n",
       "       [0.3172999 ],\n",
       "       [0.3266232 ],\n",
       "       [0.336939  ],\n",
       "       [0.34803542],\n",
       "       [0.35960317],\n",
       "       [0.3715876 ],\n",
       "       [0.38382638],\n",
       "       [0.3957634 ],\n",
       "       [0.40628475],\n",
       "       [0.41479373],\n",
       "       [0.4210212 ],\n",
       "       [0.42516544],\n",
       "       [0.4278355 ],\n",
       "       [0.4297378 ],\n",
       "       [0.431194  ],\n",
       "       [0.43211952],\n",
       "       [0.4324224 ],\n",
       "       [0.43209594],\n",
       "       [0.43117523],\n",
       "       [0.42996973],\n",
       "       [0.42878184],\n",
       "       [0.42786068],\n",
       "       [0.42727864],\n",
       "       [0.42700475],\n",
       "       [0.42690325],\n",
       "       [0.4268604 ],\n",
       "       [0.42715073],\n",
       "       [0.42809927],\n",
       "       [0.43010214],\n",
       "       [0.4332932 ],\n",
       "       [0.437109  ],\n",
       "       [0.44084996],\n",
       "       [0.44407773],\n",
       "       [0.44677323],\n",
       "       [0.4490564 ],\n",
       "       [0.45091128],\n",
       "       [0.45220065],\n",
       "       [0.45294118],\n",
       "       [0.45372742],\n",
       "       [0.45506263],\n",
       "       [0.45731115],\n",
       "       [0.46076387],\n",
       "       [0.46557176],\n",
       "       [0.47192   ],\n",
       "       [0.47957182],\n",
       "       [0.48787826],\n",
       "       [0.4952761 ],\n",
       "       [0.50038457],\n",
       "       [0.5024011 ],\n",
       "       [0.50135744],\n",
       "       [0.49767357],\n",
       "       [0.49171895],\n",
       "       [0.48364997],\n",
       "       [0.4738164 ],\n",
       "       [0.4629801 ],\n",
       "       [0.45207846],\n",
       "       [0.44200164],\n",
       "       [0.4333544 ],\n",
       "       [0.42606035],\n",
       "       [0.41990897],\n",
       "       [0.41452488],\n",
       "       [0.40971428],\n",
       "       [0.40500882],\n",
       "       [0.40024608],\n",
       "       [0.39556336],\n",
       "       [0.39134848],\n",
       "       [0.38795102],\n",
       "       [0.3855856 ],\n",
       "       [0.38416386],\n",
       "       [0.38339323],\n",
       "       [0.3832761 ],\n",
       "       [0.38398373],\n",
       "       [0.38578498],\n",
       "       [0.38902545],\n",
       "       [0.3939355 ],\n",
       "       [0.40051115],\n",
       "       [0.40841103],\n",
       "       [0.4170717 ],\n",
       "       [0.42593145],\n",
       "       [0.43440515],\n",
       "       [0.44246268],\n",
       "       [0.4498371 ],\n",
       "       [0.4561056 ],\n",
       "       [0.46107543],\n",
       "       [0.4649101 ],\n",
       "       [0.4678107 ],\n",
       "       [0.47004485],\n",
       "       [0.47173756],\n",
       "       [0.4730035 ],\n",
       "       [0.4735586 ],\n",
       "       [0.4731536 ],\n",
       "       [0.47193986],\n",
       "       [0.470226  ],\n",
       "       [0.46846676],\n",
       "       [0.46735078],\n",
       "       [0.46796924],\n",
       "       [0.47140288],\n",
       "       [0.47831202],\n",
       "       [0.48886836],\n",
       "       [0.50266004],\n",
       "       [0.5178854 ],\n",
       "       [0.53313655],\n",
       "       [0.54812634],\n",
       "       [0.56272364],\n",
       "       [0.57656133],\n",
       "       [0.58885264],\n",
       "       [0.599487  ],\n",
       "       [0.60942453],\n",
       "       [0.6199997 ],\n",
       "       [0.6320617 ],\n",
       "       [0.6462795 ],\n",
       "       [0.6622418 ],\n",
       "       [0.67871207],\n",
       "       [0.6951405 ],\n",
       "       [0.7098295 ],\n",
       "       [0.7211809 ],\n",
       "       [0.7280961 ],\n",
       "       [0.73074585],\n",
       "       [0.7303727 ],\n",
       "       [0.7285084 ],\n",
       "       [0.72698855],\n",
       "       [0.726994  ],\n",
       "       [0.72913474],\n",
       "       [0.73320633],\n",
       "       [0.73848647],\n",
       "       [0.7448429 ],\n",
       "       [0.7517187 ],\n",
       "       [0.75767976],\n",
       "       [0.7611567 ],\n",
       "       [0.761252  ],\n",
       "       [0.75776255],\n",
       "       [0.7516603 ],\n",
       "       [0.7443171 ],\n",
       "       [0.7365053 ],\n",
       "       [0.7289402 ],\n",
       "       [0.72165847],\n",
       "       [0.7140312 ],\n",
       "       [0.7053228 ],\n",
       "       [0.69489485],\n",
       "       [0.6825512 ],\n",
       "       [0.6683426 ],\n",
       "       [0.65270984],\n",
       "       [0.6363245 ],\n",
       "       [0.6213083 ],\n",
       "       [0.61019856],\n",
       "       [0.60470206],\n",
       "       [0.60578483],\n",
       "       [0.61306757],\n",
       "       [0.6252325 ],\n",
       "       [0.64035296],\n",
       "       [0.6569477 ],\n",
       "       [0.67396224],\n",
       "       [0.689786  ],\n",
       "       [0.70253074],\n",
       "       [0.7110296 ],\n",
       "       [0.7155876 ],\n",
       "       [0.71699893],\n",
       "       [0.71565247],\n",
       "       [0.7117448 ],\n",
       "       [0.70517576],\n",
       "       [0.695464  ],\n",
       "       [0.6830265 ],\n",
       "       [0.6690584 ],\n",
       "       [0.65498495],\n",
       "       [0.64183563],\n",
       "       [0.6308518 ],\n",
       "       [0.6229234 ],\n",
       "       [0.61790526],\n",
       "       [0.6146936 ],\n",
       "       [0.61180496],\n",
       "       [0.60893106],\n",
       "       [0.6055459 ],\n",
       "       [0.6007586 ],\n",
       "       [0.5935281 ],\n",
       "       [0.5840217 ],\n",
       "       [0.57347757],\n",
       "       [0.5634395 ],\n",
       "       [0.555721  ],\n",
       "       [0.5518469 ],\n",
       "       [0.5529154 ],\n",
       "       [0.5594581 ],\n",
       "       [0.5715044 ],\n",
       "       [0.58843285],\n",
       "       [0.60917914],\n",
       "       [0.6326482 ],\n",
       "       [0.6574025 ],\n",
       "       [0.68126965],\n",
       "       [0.7022864 ],\n",
       "       [0.7198717 ],\n",
       "       [0.7334536 ],\n",
       "       [0.7423486 ],\n",
       "       [0.74646866],\n",
       "       [0.7458847 ],\n",
       "       [0.7404899 ],\n",
       "       [0.73097825],\n",
       "       [0.7189112 ],\n",
       "       [0.7052587 ],\n",
       "       [0.6908765 ],\n",
       "       [0.67694366],\n",
       "       [0.66455275],\n",
       "       [0.6544211 ],\n",
       "       [0.6461271 ],\n",
       "       [0.63921547],\n",
       "       [0.6323419 ],\n",
       "       [0.6244422 ],\n",
       "       [0.6160549 ],\n",
       "       [0.60728353],\n",
       "       [0.5983225 ],\n",
       "       [0.58969915],\n",
       "       [0.58281666],\n",
       "       [0.5775976 ],\n",
       "       [0.57363075],\n",
       "       [0.5696432 ],\n",
       "       [0.5649396 ],\n",
       "       [0.55831397],\n",
       "       [0.5487503 ],\n",
       "       [0.5363837 ],\n",
       "       [0.52179784],\n",
       "       [0.50620985],\n",
       "       [0.4901179 ],\n",
       "       [0.4736024 ],\n",
       "       [0.4568082 ],\n",
       "       [0.4403336 ],\n",
       "       [0.4247408 ],\n",
       "       [0.4105471 ],\n",
       "       [0.39847028],\n",
       "       [0.3896382 ],\n",
       "       [0.3848097 ],\n",
       "       [0.38422114],\n",
       "       [0.38786125],\n",
       "       [0.39468044],\n",
       "       [0.4033507 ],\n",
       "       [0.4128862 ],\n",
       "       [0.42243245],\n",
       "       [0.430663  ],\n",
       "       [0.43584186],\n",
       "       [0.43635783],\n",
       "       [0.43196222],\n",
       "       [0.42297083],\n",
       "       [0.410181  ],\n",
       "       [0.39466473],\n",
       "       [0.37776887],\n",
       "       [0.36077446],\n",
       "       [0.3450793 ],\n",
       "       [0.33232117],\n",
       "       [0.3235891 ],\n",
       "       [0.31887484],\n",
       "       [0.31780183],\n",
       "       [0.31960136],\n",
       "       [0.32348454],\n",
       "       [0.3289509 ],\n",
       "       [0.3357321 ],\n",
       "       [0.3438808 ],\n",
       "       [0.3534687 ],\n",
       "       [0.36415848],\n",
       "       [0.37548172],\n",
       "       [0.38683146],\n",
       "       [0.3979469 ],\n",
       "       [0.40885007],\n",
       "       [0.41916984],\n",
       "       [0.42893416],\n",
       "       [0.43848097],\n",
       "       [0.44836944],\n",
       "       [0.4587887 ],\n",
       "       [0.4694144 ],\n",
       "       [0.47949177],\n",
       "       [0.48903972],\n",
       "       [0.49829775],\n",
       "       [0.5081172 ],\n",
       "       [0.5190222 ],\n",
       "       [0.5308357 ],\n",
       "       [0.54390806],\n",
       "       [0.55829316],\n",
       "       [0.5735987 ],\n",
       "       [0.5890266 ],\n",
       "       [0.60366344],\n",
       "       [0.61741704],\n",
       "       [0.6301915 ],\n",
       "       [0.6423943 ],\n",
       "       [0.65445894],\n",
       "       [0.666497  ],\n",
       "       [0.67854375],\n",
       "       [0.6903248 ],\n",
       "       [0.70095336],\n",
       "       [0.70896107],\n",
       "       [0.713299  ],\n",
       "       [0.713621  ],\n",
       "       [0.710681  ],\n",
       "       [0.704591  ],\n",
       "       [0.69530666],\n",
       "       [0.68284357],\n",
       "       [0.66743   ],\n",
       "       [0.6498297 ],\n",
       "       [0.6308567 ],\n",
       "       [0.61133826],\n",
       "       [0.5922825 ],\n",
       "       [0.5744902 ],\n",
       "       [0.55888283],\n",
       "       [0.5469094 ],\n",
       "       [0.53848445],\n",
       "       [0.53322715],\n",
       "       [0.53008705],\n",
       "       [0.52766484],\n",
       "       [0.5254374 ],\n",
       "       [0.5236778 ],\n",
       "       [0.5223491 ],\n",
       "       [0.52117074],\n",
       "       [0.5195221 ],\n",
       "       [0.5170438 ],\n",
       "       [0.5137562 ],\n",
       "       [0.5096627 ],\n",
       "       [0.50408924],\n",
       "       [0.49608922],\n",
       "       [0.48561043],\n",
       "       [0.47350836],\n",
       "       [0.46092367],\n",
       "       [0.44887745],\n",
       "       [0.43766654],\n",
       "       [0.42734683],\n",
       "       [0.41775978],\n",
       "       [0.40869397],\n",
       "       [0.40048873],\n",
       "       [0.39314133],\n",
       "       [0.38697308],\n",
       "       [0.38244712],\n",
       "       [0.37991306],\n",
       "       [0.37940234],\n",
       "       [0.38106894],\n",
       "       [0.38514426],\n",
       "       [0.39191756],\n",
       "       [0.40109652],\n",
       "       [0.41139913],\n",
       "       [0.4227098 ],\n",
       "       [0.43489277],\n",
       "       [0.44725215],\n",
       "       [0.45814723],\n",
       "       [0.4654035 ],\n",
       "       [0.46770734],\n",
       "       [0.46482348],\n",
       "       [0.4575271 ],\n",
       "       [0.4463703 ],\n",
       "       [0.43318647],\n",
       "       [0.42027855],\n",
       "       [0.40939367],\n",
       "       [0.40205538],\n",
       "       [0.39887297],\n",
       "       [0.40001887],\n",
       "       [0.40528807],\n",
       "       [0.41361618],\n",
       "       [0.4239267 ],\n",
       "       [0.43527734],\n",
       "       [0.44638687],\n",
       "       [0.45564574],\n",
       "       [0.46150535],\n",
       "       [0.46396106],\n",
       "       [0.4637158 ],\n",
       "       [0.46166122],\n",
       "       [0.45854026],\n",
       "       [0.4545293 ],\n",
       "       [0.44947934],\n",
       "       [0.44348788],\n",
       "       [0.43676355],\n",
       "       [0.42986304],\n",
       "       [0.42353022],\n",
       "       [0.4181612 ],\n",
       "       [0.4131456 ],\n",
       "       [0.40756798],\n",
       "       [0.4006909 ],\n",
       "       [0.39212337],\n",
       "       [0.38205338],\n",
       "       [0.37089923],\n",
       "       [0.35898486],\n",
       "       [0.3465457 ],\n",
       "       [0.33379406],\n",
       "       [0.3211915 ],\n",
       "       [0.30919912],\n",
       "       [0.2978704 ],\n",
       "       [0.2870988 ],\n",
       "       [0.27671084],\n",
       "       [0.2669607 ],\n",
       "       [0.25836188],\n",
       "       [0.25159508],\n",
       "       [0.24755497],\n",
       "       [0.24673147],\n",
       "       [0.24898529],\n",
       "       [0.2542005 ],\n",
       "       [0.26200595],\n",
       "       [0.27167147],\n",
       "       [0.28257924],\n",
       "       [0.29439637],\n",
       "       [0.3070009 ],\n",
       "       [0.32017136],\n",
       "       [0.33374912],\n",
       "       [0.34767592],\n",
       "       [0.36144948],\n",
       "       [0.3745671 ],\n",
       "       [0.38669908],\n",
       "       [0.3981837 ],\n",
       "       [0.40984976],\n",
       "       [0.42207867],\n",
       "       [0.4352018 ],\n",
       "       [0.44882756],\n",
       "       [0.46206397],\n",
       "       [0.47403568],\n",
       "       [0.48450428],\n",
       "       [0.49334592],\n",
       "       [0.50090563],\n",
       "       [0.5073043 ],\n",
       "       [0.5123808 ],\n",
       "       [0.5152946 ],\n",
       "       [0.51562035],\n",
       "       [0.51348376],\n",
       "       [0.5090334 ],\n",
       "       [0.5027272 ],\n",
       "       [0.49512893],\n",
       "       [0.4866343 ],\n",
       "       [0.4776963 ],\n",
       "       [0.46928275],\n",
       "       [0.46262324],\n",
       "       [0.45848447],\n",
       "       [0.45727926],\n",
       "       [0.45879132],\n",
       "       [0.46209604],\n",
       "       [0.46639693],\n",
       "       [0.47133785],\n",
       "       [0.47675967],\n",
       "       [0.48288882],\n",
       "       [0.4898026 ],\n",
       "       [0.49770606],\n",
       "       [0.50687015],\n",
       "       [0.5170928 ],\n",
       "       [0.52803427],\n",
       "       [0.53940594],\n",
       "       [0.55049425],\n",
       "       [0.5604265 ],\n",
       "       [0.56902164],\n",
       "       [0.57660687],\n",
       "       [0.5839247 ],\n",
       "       [0.59173393],\n",
       "       [0.6003376 ],\n",
       "       [0.60929596],\n",
       "       [0.61806726],\n",
       "       [0.6256861 ],\n",
       "       [0.6311469 ],\n",
       "       [0.6337532 ],\n",
       "       [0.6342241 ],\n",
       "       [0.63355577],\n",
       "       [0.63266236],\n",
       "       [0.63240516],\n",
       "       [0.6334502 ],\n",
       "       [0.63596666],\n",
       "       [0.63947034],\n",
       "       [0.64334834],\n",
       "       [0.6467824 ],\n",
       "       [0.64915067],\n",
       "       [0.6508842 ],\n",
       "       [0.6527573 ],\n",
       "       [0.6554082 ],\n",
       "       [0.6589679 ],\n",
       "       [0.6630638 ],\n",
       "       [0.6669051 ],\n",
       "       [0.6710007 ],\n",
       "       [0.6759363 ],\n",
       "       [0.6817597 ],\n",
       "       [0.68847907],\n",
       "       [0.69590944],\n",
       "       [0.70351946],\n",
       "       [0.71062565],\n",
       "       [0.7166489 ],\n",
       "       [0.72132516],\n",
       "       [0.7249891 ],\n",
       "       [0.72807306],\n",
       "       [0.7307538 ],\n",
       "       [0.732671  ],\n",
       "       [0.73351884],\n",
       "       [0.73335165],\n",
       "       [0.7327728 ],\n",
       "       [0.73266685],\n",
       "       [0.7336853 ],\n",
       "       [0.73653203],\n",
       "       [0.7415807 ],\n",
       "       [0.7485126 ],\n",
       "       [0.75653434],\n",
       "       [0.764486  ],\n",
       "       [0.7718289 ],\n",
       "       [0.7783292 ],\n",
       "       [0.7843535 ],\n",
       "       [0.7901356 ],\n",
       "       [0.79582703],\n",
       "       [0.8017389 ],\n",
       "       [0.8077737 ],\n",
       "       [0.81364924],\n",
       "       [0.8188448 ],\n",
       "       [0.823429  ],\n",
       "       [0.82748234],\n",
       "       [0.83080995],\n",
       "       [0.83369267],\n",
       "       [0.8365863 ],\n",
       "       [0.8398334 ],\n",
       "       [0.844154  ],\n",
       "       [0.8497114 ],\n",
       "       [0.85604525],\n",
       "       [0.86255187],\n",
       "       [0.8684344 ],\n",
       "       [0.8727408 ],\n",
       "       [0.8748762 ],\n",
       "       [0.8749429 ],\n",
       "       [0.873502  ],\n",
       "       [0.87125045],\n",
       "       [0.86933523],\n",
       "       [0.86859155],\n",
       "       [0.8696002 ],\n",
       "       [0.8721865 ],\n",
       "       [0.87560916],\n",
       "       [0.8792069 ],\n",
       "       [0.88259935],\n",
       "       [0.8856954 ],\n",
       "       [0.888263  ],\n",
       "       [0.89053744],\n",
       "       [0.8928464 ],\n",
       "       [0.89524263],\n",
       "       [0.89716387],\n",
       "       [0.8978985 ],\n",
       "       [0.89565474],\n",
       "       [0.8889392 ],\n",
       "       [0.87744   ],\n",
       "       [0.86181027],\n",
       "       [0.843264  ],\n",
       "       [0.8234005 ],\n",
       "       [0.8042172 ],\n",
       "       [0.7871989 ],\n",
       "       [0.77316   ],\n",
       "       [0.76208943],\n",
       "       [0.7537902 ],\n",
       "       [0.7481511 ],\n",
       "       [0.74515486],\n",
       "       [0.74509466],\n",
       "       [0.74738866],\n",
       "       [0.7515226 ],\n",
       "       [0.7571345 ],\n",
       "       [0.76432794],\n",
       "       [0.77341837],\n",
       "       [0.7843954 ],\n",
       "       [0.79701537],\n",
       "       [0.8107094 ],\n",
       "       [0.82346386],\n",
       "       [0.8326097 ],\n",
       "       [0.8367149 ],\n",
       "       [0.8357117 ],\n",
       "       [0.8298316 ],\n",
       "       [0.8196599 ],\n",
       "       [0.80648106],\n",
       "       [0.7916992 ],\n",
       "       [0.77726436],\n",
       "       [0.7649588 ],\n",
       "       [0.7554365 ],\n",
       "       [0.74859977],\n",
       "       [0.7441652 ],\n",
       "       [0.74192834],\n",
       "       [0.7409672 ],\n",
       "       [0.7401359 ],\n",
       "       [0.73863053],\n",
       "       [0.73615783],\n",
       "       [0.7331766 ],\n",
       "       [0.73010314],\n",
       "       [0.727486  ],\n",
       "       [0.7259253 ],\n",
       "       [0.72611976],\n",
       "       [0.7286504 ],\n",
       "       [0.7335361 ],\n",
       "       [0.7405641 ],\n",
       "       [0.7493231 ],\n",
       "       [0.75882256],\n",
       "       [0.76797646],\n",
       "       [0.7756357 ],\n",
       "       [0.7808334 ],\n",
       "       [0.7831374 ],\n",
       "       [0.78217524],\n",
       "       [0.7780094 ],\n",
       "       [0.77129287],\n",
       "       [0.7625855 ],\n",
       "       [0.75192   ],\n",
       "       [0.73970866],\n",
       "       [0.72704136],\n",
       "       [0.71520555],\n",
       "       [0.7056791 ],\n",
       "       [0.6997323 ],\n",
       "       [0.6980486 ],\n",
       "       [0.70097184],\n",
       "       [0.70842785],\n",
       "       [0.7199425 ],\n",
       "       [0.7344521 ],\n",
       "       [0.75111973],\n",
       "       [0.7687497 ],\n",
       "       [0.7864788 ],\n",
       "       [0.803554  ],\n",
       "       [0.81952375],\n",
       "       [0.8339293 ],\n",
       "       [0.8466316 ],\n",
       "       [0.8573646 ],\n",
       "       [0.86601996],\n",
       "       [0.8723671 ],\n",
       "       [0.87632024],\n",
       "       [0.8781558 ],\n",
       "       [0.8781189 ],\n",
       "       [0.8766577 ],\n",
       "       [0.8744889 ],\n",
       "       [0.87198967],\n",
       "       [0.87005055],\n",
       "       [0.86918664],\n",
       "       [0.8698758 ],\n",
       "       [0.8724592 ],\n",
       "       [0.8764696 ],\n",
       "       [0.88141423],\n",
       "       [0.88725156],\n",
       "       [0.89384115],\n",
       "       [0.9007442 ],\n",
       "       [0.9071268 ],\n",
       "       [0.9124456 ],\n",
       "       [0.9160733 ],\n",
       "       [0.91770935],\n",
       "       [0.9172206 ],\n",
       "       [0.9147211 ],\n",
       "       [0.91062534],\n",
       "       [0.90559834],\n",
       "       [0.9001906 ]], dtype=float32)"
      ]
     },
     "execution_count": 45,
     "metadata": {},
     "output_type": "execute_result"
    }
   ],
   "source": [
    "y_predicted"
   ]
  },
  {
   "cell_type": "code",
   "execution_count": 46,
   "metadata": {
    "colab": {
     "base_uri": "https://localhost:8080/"
    },
    "id": "IVphHOlSVVQX",
    "outputId": "553470a6-55d3-4791-fd84-f3c18240f354"
   },
   "outputs": [
    {
     "data": {
      "text/plain": [
       "array([0.01071754])"
      ]
     },
     "execution_count": 46,
     "metadata": {},
     "output_type": "execute_result"
    }
   ],
   "source": [
    "scaler.scale_"
   ]
  },
  {
   "cell_type": "code",
   "execution_count": 47,
   "metadata": {
    "id": "Gwo6lm9gVVSW"
   },
   "outputs": [],
   "source": [
    "scale_factor = 1/0.00853401\n",
    "y_predicted = y_predicted*scale_factor\n",
    "y_test = y_test*scale_factor"
   ]
  },
  {
   "cell_type": "code",
   "execution_count": 48,
   "metadata": {
    "colab": {
     "base_uri": "https://localhost:8080/",
     "height": 542
    },
    "id": "z_Rph4VSVVV1",
    "outputId": "b3281292-2007-4ef7-f111-8aaa0fae7c0f"
   },
   "outputs": [
    {
     "data": {
      "image/png": "[encoded data removed]",
      "text/plain": [
       "<Figure size 1200x600 with 1 Axes>"
      ]
     },
     "metadata": {},
     "output_type": "display_data"
    }
   ],
   "source": [
    "plt.figure(figsize = (12,6))\n",
    "plt.plot(y_test, 'b', label = 'Original Price')\n",
    "plt.plot(y_predicted, 'r', label = 'Predicted Price')\n",
    "plt.xlabel('Time')\n",
    "plt.ylabel('Price')\n",
    "plt.legend()\n",
    "plt.show()"
   ]
  },
  {
   "cell_type": "code",
   "execution_count": null,
   "metadata": {
    "id": "Sk6WY2qAWWvA"
   },
   "outputs": [],
   "source": []
  }
 ],
 "metadata": {
  "colab": {
   "provenance": []
  },
  "kernelspec": {
   "display_name": "Python 3 (ipykernel)",
   "language": "python",
   "name": "python3"
  },
  "language_info": {
   "codemirror_mode": {
    "name": "ipython",
    "version": 3
   },
   "file_extension": ".py",
   "mimetype": "text/x-python",
   "name": "python",
   "nbconvert_exporter": "python",
   "pygments_lexer": "ipython3",
   "version": "3.11.5"
  }
 },
 "nbformat": 4,
 "nbformat_minor": 1
}
